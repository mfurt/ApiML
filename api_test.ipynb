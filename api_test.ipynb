{
 "cells": [
  {
   "cell_type": "code",
   "execution_count": 2,
   "id": "daf033e3",
   "metadata": {},
   "outputs": [
    {
     "name": "stderr",
     "output_type": "stream",
     "text": [
      "INFO:     Started server process [10888]\n",
      "INFO:     Waiting for application startup.\n",
      "INFO:     Application startup complete.\n",
      "INFO:     Uvicorn running on http://127.0.0.1:5000 (Press CTRL+C to quit)\n"
     ]
    },
    {
     "name": "stdout",
     "output_type": "stream",
     "text": [
      "INFO:     127.0.0.1:54050 - \"GET / HTTP/1.1\" 200 OK\n"
     ]
    },
    {
     "name": "stderr",
     "output_type": "stream",
     "text": [
      "INFO:     Shutting down\n",
      "INFO:     Waiting for application shutdown.\n",
      "INFO:     Application shutdown complete.\n",
      "INFO:     Finished server process [10888]\n"
     ]
    }
   ],
   "source": [
    "from typing import Union\n",
    "import uvicorn\n",
    "from fastapi import FastAPI\n",
    "from modul import *\n",
    "# from fastapi_utilities import repeat_at\n",
    "import nest_asyncio\n",
    "import warnings\n",
    "warnings.filterwarnings('ignore')\n",
    "\n",
    "app = FastAPI()\n",
    "\n",
    "\n",
    "@app.get(\"/\")\n",
    "def learn():\n",
    "    df_pr, df_sales_train, df_st, df_hol = read_files()\n",
    "    df, df_hol = make_one(df_pr, df_sales_train, df_st, df_hol)\n",
    "    number_list, df = ez_drop(df)\n",
    "    df, market_list, city_list = ez_game(df)\n",
    "    generate_market_data(df, market_list)\n",
    "    path, dir_list, max_date, str_list = mini_const(df, df_sales_train)\n",
    "    learn_cat(dir_list, path, param_grid, str_list)\n",
    "    generate_data_pred(dir_list, path, max_date, df, df_hol)\n",
    "    just_result(dir_list, path)\n",
    "\n",
    "    return \"Успех\"\n",
    "\n",
    "\n",
    "@app.post('/yea')\n",
    "def post_table():\n",
    "    pass\n",
    "\n",
    "\n",
    "if __name__ == \"__main__\":\n",
    "    nest_asyncio.apply()\n",
    "    uvicorn.run(app, port=5000)\n"
   ]
  },
  {
   "cell_type": "code",
   "execution_count": null,
   "id": "3dfbd5fb",
   "metadata": {},
   "outputs": [],
   "source": []
  }
 ],
 "metadata": {
  "kernelspec": {
   "display_name": "Python 3 (ipykernel)",
   "language": "python",
   "name": "python3"
  },
  "language_info": {
   "codemirror_mode": {
    "name": "ipython",
    "version": 3
   },
   "file_extension": ".py",
   "mimetype": "text/x-python",
   "name": "python",
   "nbconvert_exporter": "python",
   "pygments_lexer": "ipython3",
   "version": "3.11.5"
  }
 },
 "nbformat": 4,
 "nbformat_minor": 5
}
